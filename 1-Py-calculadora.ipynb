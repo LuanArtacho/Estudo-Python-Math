{
 "cells": [
  {
   "cell_type": "markdown",
   "id": "72ab1ede",
   "metadata": {},
   "source": [
    "# Tutorial rápido de Python para Matemáticos\n",
    "\n",
    "## Índice\n",
    "\n",
    "###### 1. [Introdução]\n",
    "###### 2. [Python é uma boa calculadora!]\n",
    "###### 3. [Resolvendo equações]\n",
    "###### 4. [Gráficos]\n",
    "###### 5. [Sistemas lineares e matrizes]\n",
    "###### 6. [Limites, derivadas e integrais]\n",
    "###### 7. [Equações diferenciais]"
   ]
  },
  {
   "cell_type": "markdown",
   "id": "a5bc1c3c",
   "metadata": {},
   "source": [
    "# Python é uma boa calculadora!\n",
    "\n",
    "Vamos colocar o Python para fazer umas contas. Para isso, é só digitar o que você quer na linha aqui de baixo e depois apertar shift+enter. \n",
    "\n",
    "Tudo que você digitar na linha de código começando com # será interpretado como um comentário, e em geral é usado para explicar partes do código."
   ]
  },
  {
   "cell_type": "code",
   "execution_count": 1,
   "id": "da574f34",
   "metadata": {},
   "outputs": [
    {
     "data": {
      "text/plain": [
       "2"
      ]
     },
     "execution_count": 1,
     "metadata": {},
     "output_type": "execute_result"
    }
   ],
   "source": [
    "# isto é um comentário. abaixo, fazemos a soma de 1 com 1\n",
    "1+1"
   ]
  },
  {
   "cell_type": "code",
   "execution_count": 2,
   "id": "d5c079ae",
   "metadata": {},
   "outputs": [
    {
     "data": {
      "text/plain": [
       "4096576"
      ]
     },
     "execution_count": 2,
     "metadata": {},
     "output_type": "execute_result"
    }
   ],
   "source": [
    "2024*2024"
   ]
  },
  {
   "cell_type": "markdown",
   "id": "5096fd3c",
   "metadata": {},
   "source": [
    "Para dividir dois números, é só usar o símbolo \"/\":"
   ]
  },
  {
   "cell_type": "code",
   "execution_count": 3,
   "id": "12e85d28",
   "metadata": {},
   "outputs": [
    {
     "data": {
      "text/plain": [
       "2.75"
      ]
     },
     "execution_count": 3,
     "metadata": {},
     "output_type": "execute_result"
    }
   ],
   "source": [
    "11/4"
   ]
  },
  {
   "cell_type": "markdown",
   "id": "50c69b87",
   "metadata": {},
   "source": [
    "O resultado será um número decimal. Se você quiser fazer uma divisão inteira, aquela em que é produzido um quociente e um resto, terá que usar dois comandos.\n",
    " \n",
    "O ```//``` produz o quociente dessa divisão e o ```%``` o resto, como nos exemplos abaixo. Lembre-se que $11=4\\cdot 2+3$."
   ]
  },
  {
   "cell_type": "code",
   "execution_count": 4,
   "id": "d421a66c",
   "metadata": {},
   "outputs": [
    {
     "data": {
      "text/plain": [
       "2"
      ]
     },
     "execution_count": 4,
     "metadata": {},
     "output_type": "execute_result"
    }
   ],
   "source": [
    "11//4"
   ]
  },
  {
   "cell_type": "code",
   "execution_count": 5,
   "id": "2379ce75",
   "metadata": {},
   "outputs": [
    {
     "data": {
      "text/plain": [
       "3"
      ]
     },
     "execution_count": 5,
     "metadata": {},
     "output_type": "execute_result"
    }
   ],
   "source": [
    "11 % 4"
   ]
  },
  {
   "cell_type": "markdown",
   "id": "6ed1b7cd",
   "metadata": {},
   "source": [
    "## Conhecendo a biblioteca mais poderosa para matemática. SymPy\n",
    "\n",
    "O Python tem suas funções ampliadas com base em módulos/bibliotecas. Usaremos muitas delas em nossos exemplos. \n",
    "\n",
    "Uma das bibliotecas mais conhecidas para matemática é a SymPy, para cálculos simbólicos. A SymPy é uma biblioteca enorme, então se importamos todas as funções dela para o ambiente de trabalho, além de começar a dar conflito com algumas outras funções, tudo pode ficar mais lento. Então o comando abaixo vai importar SymPy usando um atalho. Esse é um procedimento totalmente usual.\n",
    "\n",
    "No [site do SymPy](https://docs.sympy.org/latest/tutorial/index.html) você tem um tutorial bem legal que eu recomendo.\n",
    "\n",
    "O comando ```import sympy as sp``` diz que estamos importando a biblioteca SymPy e o prefixo ```sp``` será usado para chamar as funções dessa biblioteca. A seguir, usamos o comando ```isprime```, que determina se um número é ou não primo."
   ]
  },
  {
   "cell_type": "code",
   "execution_count": 5,
   "id": "bd467151",
   "metadata": {},
   "outputs": [
    {
     "name": "stdout",
     "output_type": "stream",
     "text": [
      "Collecting sympy\n",
      "  Downloading sympy-1.12-py3-none-any.whl.metadata (12 kB)\n",
      "Collecting mpmath>=0.19 (from sympy)\n",
      "  Downloading mpmath-1.3.0-py3-none-any.whl.metadata (8.6 kB)\n",
      "Downloading sympy-1.12-py3-none-any.whl (5.7 MB)\n",
      "\u001b[2K   \u001b[90m━━━━━━━━━━━━━━━━━━━━━━━━━━━━━━━━━━━━━━━━\u001b[0m \u001b[32m5.7/5.7 MB\u001b[0m \u001b[31m11.0 MB/s\u001b[0m eta \u001b[36m0:00:00\u001b[0ma \u001b[36m0:00:01\u001b[0m\n",
      "\u001b[?25hDownloading mpmath-1.3.0-py3-none-any.whl (536 kB)\n",
      "\u001b[2K   \u001b[90m━━━━━━━━━━━━━━━━━━━━━━━━━━━━━━━━━━━━━━━━\u001b[0m \u001b[32m536.2/536.2 kB\u001b[0m \u001b[31m10.2 MB/s\u001b[0m eta \u001b[36m0:00:00\u001b[0ma \u001b[36m0:00:01\u001b[0m\n",
      "\u001b[?25hInstalling collected packages: mpmath, sympy\n",
      "Successfully installed mpmath-1.3.0 sympy-1.12\n",
      "\n",
      "\u001b[1m[\u001b[0m\u001b[34;49mnotice\u001b[0m\u001b[1;39;49m]\u001b[0m\u001b[39;49m A new release of pip is available: \u001b[0m\u001b[31;49m23.3.1\u001b[0m\u001b[39;49m -> \u001b[0m\u001b[32;49m24.0\u001b[0m\n",
      "\u001b[1m[\u001b[0m\u001b[34;49mnotice\u001b[0m\u001b[1;39;49m]\u001b[0m\u001b[39;49m To update, run: \u001b[0m\u001b[32;49mpip install --upgrade pip\u001b[0m\n"
     ]
    }
   ],
   "source": [
    "!pip install sympy"
   ]
  },
  {
   "cell_type": "code",
   "execution_count": 7,
   "id": "54516414",
   "metadata": {},
   "outputs": [
    {
     "data": {
      "text/plain": [
       "True"
      ]
     },
     "execution_count": 7,
     "metadata": {},
     "output_type": "execute_result"
    }
   ],
   "source": [
    "import sympy as sp\n",
    "sp.isprime(11) # Verificando se o numero é primo ou não."
   ]
  },
  {
   "cell_type": "markdown",
   "id": "e17bda18",
   "metadata": {},
   "source": [
    "## Sem preguiça, vamos programar um pouco!\n",
    "\n",
    "Usar a função ```isprime``` do SymPy é ótimo, mas poderíamos ter programado um \"crivo\" para verificar primalidade, né? Vamos fazer isso. Vai ser uma primeira oportunidade de conhecer a sintaxe de alguns laços, que podem ser úteis mais pra frente.\n",
    "\n",
    "Uma forma simples de verificar se um número é primo é a seguinte: tente dividí-lo por todos os inteiros maiores que 1 e menores que ele. Se nenhuma divisão for exata, o número é primo. Se em alguma divisão der resto zero, então o número não será primo. O código abaixo foi adaptado [daqui](https://stackoverflow.com/questions/4114167/checking-if-a-number-is-prime-in-python). "
   ]
  },
  {
   "cell_type": "code",
   "execution_count": 10,
   "id": "52addc89",
   "metadata": {},
   "outputs": [
    {
     "name": "stdout",
     "output_type": "stream",
     "text": [
      "True\n",
      "False\n"
     ]
    }
   ],
   "source": [
    "def checa_primo(n):\n",
    "    \"\"\"\n",
    "    Função que verifica se um número é primo.\n",
    "    Argumentos:\n",
    "        n: O número a ser verificado.\n",
    "    Retorno:\n",
    "        True se o número for primo, False caso contrário.\n",
    "    \"\"\"\n",
    "    if n == 2:\n",
    "        \"\"\"\n",
    "        Se o número for 2, ele é primo por definição.\n",
    "        \"\"\"\n",
    "        return True\n",
    "    if n % 2 == 0 or n <= 1:\n",
    "        \"\"\"\n",
    "        Se o número for par ou menor que 1, ele não é primo.\n",
    "        \"\"\"\n",
    "        return False\n",
    "    for divisor in range(3, n, 2):\n",
    "        \"\"\"\n",
    "        Percorre todos os números ímpares entre 3 e n-1.\n",
    "        \"\"\"\n",
    "        if n % divisor == 0:\n",
    "            \"\"\"\n",
    "            Se o número for divisível por algum divisor, ele não é primo.\n",
    "            \"\"\"\n",
    "            return False\n",
    "    return True\n",
    "\n",
    "# Exemplos de uso da função\n",
    "print(checa_primo(101))  # True\n",
    "print(checa_primo(102))  # False\n"
   ]
  },
  {
   "cell_type": "markdown",
   "id": "28b11696",
   "metadata": {},
   "source": [
    "Agora vamos pensar um pouco: estamos tentando dividir $n$ por todos os números entre $2$ e $n-1$. Será que precisamos de tudo isso? Ora, se $n$ for divisível por $k$, com $k<n$, então $n$ também será divisível por $n/k$. Das duas, uma: ou $k$ ou $n/k$ será menor que $\\sqrt{n}$. A prova disso é fácil: se ambos forem maiores que $\\sqrt{n}$, então o produto deles, que sabemos que resulta em $n$, seria $$n=k\\cdot (n/k)>\\sqrt{n}\\cdot \\sqrt{n}=n,$$ um absurdo portanto.\n",
    "\n",
    "Logo, podemos alterar o ```range``` dentro do ```for``` para ir de $3$ até o inteiro maior ou igual a$\\sqrt{n}$ (repare no uso da função ```int``` no código).\n",
    "\n",
    "Como a função $\\sqrt{x}$ não está implementada por padrão no Python, ao invés de implementá-la, vamos carregar a biblioteca ```math``` que vem com ela e outras funções simples no pacote. Veja detalhes sobre a ```math``` [aqui](https://docs.python.org/3/library/math.html).\n",
    "\n",
    "Note que isso aumenta bastante a velocidade de execução do nosso algoritmo."
   ]
  },
  {
   "cell_type": "code",
   "execution_count": 13,
   "id": "5ebbfcca",
   "metadata": {},
   "outputs": [
    {
     "name": "stdout",
     "output_type": "stream",
     "text": [
      "True\n",
      "False\n"
     ]
    }
   ],
   "source": [
    "import math\n",
    "\n",
    "def checa_primo(n):\n",
    "    \"\"\"\n",
    "    Função otimizada que verifica se um número é primo.\n",
    "    Esta função é mais eficiente que a 'checa_primo' original porque\n",
    "    percorre apenas até a raiz quadrada de n para encontrar divisores primos.\n",
    "    Argumentos:\n",
    "        n: O número a ser verificado.\n",
    "    Retorno:\n",
    "        True se o número for primo, False caso contrário.\n",
    "    \"\"\"\n",
    "    if n == 2:\n",
    "        # Se o número for 2, ele é primo por definição.\n",
    "        return True\n",
    "    if n % 2 == 0 or n <= 1:\n",
    "        # Se o número for par ou menor que 1, ele não é primo.\n",
    "        return False\n",
    "    # Otimização: percorre apenas até a raiz quadrada de n\n",
    "    for divisor in range(3, int(math.sqrt(n)) + 1, 2):\n",
    "        # Percorre todos os números ímpares entre 3 e a raiz quadrada de n.\n",
    "        if n % divisor == 0:\n",
    "            # Se o número for divisível por algum divisor, ele não é primo.\n",
    "            return False\n",
    "    return True\n",
    "\n",
    "# Exemplo de uso da função\n",
    "print(checa_primo(101))  # True\n",
    "print(checa_primo(102))  # False"
   ]
  },
  {
   "cell_type": "markdown",
   "id": "92219a1b",
   "metadata": {},
   "source": [
    "#### Explicando - Imagine que você tem um número grande, como 101.\n",
    "\n",
    "**1. Por que você quer saber se ele é primo?**\n",
    "\n",
    "Números primos são especiais porque só podem ser divididos por 1 e por eles mesmos. Por exemplo, 13 é primo porque só pode ser dividido por 1 e por 13. Já 10 não é primo porque pode ser dividido por 1, por 2, por 5 e por 10.\n",
    "\n",
    "**2. Como você pode descobrir se um número é primo?**\n",
    "\n",
    "Uma maneira de fazer isso é tentar dividi-lo por todos os números menores que ele. Se ele não for divisível por nenhum desses números, então ele é primo.\n",
    "\n",
    "**3. Mas isso pode ser muito trabalhoso!**\n",
    "\n",
    "Se o número for grande, você terá que fazer muitas divisões. Por exemplo, para verificar se 101 é primo, você precisaria tentar dividi-lo por 1, 2, 3, 4, ..., 100.\n",
    "\n",
    "**4. Existe uma maneira mais fácil de fazer isso?**\n",
    "\n",
    "Sim! Você pode usar um truque matemático. Imagine que você está dividindo 101 por todos os números entre 2 e 100.\n",
    "\n",
    "**5. O que você acha que vai acontecer?**\n",
    "\n",
    "Se 101 for divisível por um número menor que a sua raiz quadrada (que é cerca de 10), então também será divisível por um número maior que a sua raiz quadrada.\n",
    "\n",
    "**6. Por que isso acontece?**\n",
    "\n",
    "Se 101 é divisível por um número menor que 10, então esse número e o seu \"parceiro\" (101 dividido por esse número) multiplicados darão 101. Mas se ambos os números forem maiores que 10, o seu produto será maior que 101, o que não pode ser verdade.\n",
    "\n",
    "**7. Então, o que você pode fazer?**\n",
    "\n",
    "Você pode verificar se 101 é divisível por todos os números entre 2 e sua raiz quadrada (cerca de 10). Se não for divisível por nenhum desses números, então ele é primo!\n",
    "\n",
    "**8. Como você pode fazer isso no Python?**\n",
    "\n",
    "Você pode usar a função `range` para percorrer todos os números entre 2 e a raiz quadrada de 101. Se 101 for divisível por algum desses números, você pode retornar `False`. Se não for divisível por nenhum desses números, você pode retornar `True`.\n",
    "\n",
    "**9. Veja como o código fica:**\n",
    "\n",
    "```python\n",
    "import math\n",
    "\n",
    "def checa_primo(n):\n",
    "\n",
    "    if n == 2:\n",
    "        return True\n",
    "\n",
    "    if n % 2 == 0 or n <= 1:\n",
    "        return False\n",
    "\n",
    "    for divisor in range(3, int(math.sqrt(n)) + 1, 2):\n",
    "        if n % divisor == 0:\n",
    "            return False\n",
    "\n",
    "    return True\n",
    "\n",
    "# Exemplo de uso da função\n",
    "print(checa_primo(101))  # True\n",
    "```\n",
    "\n",
    "**10. Esse código é muito mais rápido do que o código original!**\n",
    "\n",
    "Isso porque ele verifica apenas os números que realmente precisam ser verificados.\n"
   ]
  },
  {
   "cell_type": "markdown",
   "id": "88fed07e",
   "metadata": {},
   "source": [
    "##### ---------------------------------------"
   ]
  },
  {
   "cell_type": "markdown",
   "id": "d3808a4a",
   "metadata": {},
   "source": [
    "## Bônus: programando nossa própria raiz quadrada\n",
    "\n",
    "No código acima, para verificar a primalidade, usamos a função ```sqrt``` do pacote ```math``` do Python, mas isso é um exagero. Podemos facilmente programar uma função que calcula a raiz quadrada.\n",
    "\n",
    "A função que vamos programar usa um argumento simples, que era usado pelos babilônios por volta do ano 60 d.C. para calcular a raiz quadrada: suponha que $x>0$ e queremos calcular $\\sqrt{x}$. Seja $y$ com $y^2<x$. Então $\\sqrt{x}$ está entre $y$ e $x/y$ (\"perto do ponto médio desse intervalo\"). \n",
    "\n",
    "Atualmente essa estratégia é conhecida como método de Heron, e sua demonstração é simples (tem até [aqui](https://en.wikipedia.org/wiki/Methods_of_computing_square_roots#Babylonian_method) na Wikipedia).\n",
    "\n",
    "Em termos mais algoritmicos, a ideia é a seguinte. Queremos calcular $\\sqrt{x}$. Escolha $y=1$ (ou qualquer outro número positivo). Então, a menos que $x=1$, a raiz quadrada de $x$ estará entre $y$ e $x/y$. Pegue então o ponto médio desse intervalo e chame de $y_1$. Novamente, a raiz quadrada de $x$ estará entre $y_1$ e $x/y_1$. Pegue novamente o ponto médio desse intervalo e continue sucessivamente. A sequência desses \"pontos médios\" vai convergir para a raiz quadrada."
   ]
  },
  {
   "cell_type": "code",
   "execution_count": 20,
   "id": "d39811fd",
   "metadata": {},
   "outputs": [
    {
     "name": "stdout",
     "output_type": "stream",
     "text": [
      "A raiz quadrada de 2 é aproximadamente: 1.414213562373095\n"
     ]
    }
   ],
   "source": [
    "def minharaizquadrada(x):\n",
    "    \"\"\"\n",
    "    Função que calcula a raiz quadrada de um número usando o método da bisseção.\n",
    "    Argumentos:\n",
    "        x: O número cuja raiz quadrada queremos calcular.\n",
    "    Retorno:\n",
    "        A aproximação da raiz quadrada de x.\n",
    "    \"\"\"\n",
    "    y = 1\n",
    "    # Define o número de iterações.\n",
    "    # Quanto maior o número de iterações, melhor a aproximação.\n",
    "    numero_de_iteracoes = 10\n",
    "    # Loop para calcular a raiz quadrada.\n",
    "    for k in range(1, numero_de_iteracoes + 1):\n",
    "        y = (y + x / y) / 2\n",
    "    return y\n",
    "\n",
    "# Exemplo de uso da função\n",
    "resultado = minharaizquadrada(2)\n",
    "print(f\"A raiz quadrada de 2 é aproximadamente: {resultado}\")"
   ]
  },
  {
   "cell_type": "markdown",
   "id": "d2ecf0e5",
   "metadata": {},
   "source": [
    "Pronto, agora temos nossa própria função para calcular raiz quadrada! Vamos rodar novamente aquele teste de primalidade, só que agora com nossa função raiz quadrada."
   ]
  },
  {
   "cell_type": "code",
   "execution_count": 23,
   "id": "3b087d49",
   "metadata": {},
   "outputs": [
    {
     "name": "stdout",
     "output_type": "stream",
     "text": [
      "True\n"
     ]
    }
   ],
   "source": [
    "def checa_primo(n):\n",
    "    \"\"\"\n",
    "    Função otimizada que verifica se um número é primo.\n",
    "    Esta função utiliza o método da bisseção para calcular a raiz quadrada de 'n' e otimizar a verificação de divisores primos.\n",
    "    Argumentos:\n",
    "        n: O número a ser verificado.\n",
    "    Retorno:\n",
    "        True se o número for primo, False caso contrário.\n",
    "    \"\"\"\n",
    "    if n == 2:\n",
    "        # Se o número for 2, ele é primo por definição.\n",
    "        return True\n",
    "\n",
    "    if n % 2 == 0 or n <= 1:\n",
    "        # Se o número for par ou menor que 1, ele não é primo.\n",
    "        return False\n",
    "\n",
    "    # Otimização: usa o método da bisseção para calcular a raiz quadrada de n\n",
    "    raiz_quadrada_aproximada = minharaizquadrada(n)\n",
    "\n",
    "    # Percorre apenas até a raiz quadrada aproximada de n (arredondada para cima)\n",
    "    for divisor in range(3, int(raiz_quadrada_aproximada) + 1, 2):\n",
    "        # Percorre todos os números ímpares entre 3 e a raiz quadrada aproximada de n.\n",
    "        if n % divisor == 0:\n",
    "            # Se o número for divisível por algum divisor, ele não é primo.\n",
    "            return False\n",
    "\n",
    "    return True\n",
    "\n",
    "# Exemplo de uso da função\n",
    "print(checa_primo(101))  # True\n"
   ]
  },
  {
   "cell_type": "markdown",
   "id": "6b5f9012",
   "metadata": {},
   "source": [
    "Bom, 101 continua sendo primo, então a função deve funcionar :)\n",
    "\n",
    "Por agora é isso, seguiremos com novos projetos."
   ]
  },
  {
   "cell_type": "markdown",
   "id": "1aa10bfa",
   "metadata": {},
   "source": []
  }
 ],
 "metadata": {
  "author": "Ricardo Miranda Martins",
  "kernelspec": {
   "display_name": "Python 3 (ipykernel)",
   "language": "python",
   "name": "python3"
  },
  "language_info": {
   "codemirror_mode": {
    "name": "ipython",
    "version": 3
   },
   "file_extension": ".py",
   "mimetype": "text/x-python",
   "name": "python",
   "nbconvert_exporter": "python",
   "pygments_lexer": "ipython3",
   "version": "3.11.4"
  },
  "title": "Tutorial rápido de Python para Matemáticos",
  "toc": {
   "base_numbering": 1,
   "nav_menu": {},
   "number_sections": true,
   "sideBar": true,
   "skip_h1_title": false,
   "title_cell": "Table of Contents",
   "title_sidebar": "Contents",
   "toc_cell": true,
   "toc_position": {},
   "toc_section_display": true,
   "toc_window_display": false
  }
 },
 "nbformat": 4,
 "nbformat_minor": 5
}
