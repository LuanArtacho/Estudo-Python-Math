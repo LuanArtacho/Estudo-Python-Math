{
  "cells": [
    {
      "cell_type": "markdown",
      "metadata": {
        "colab_type": "text",
        "id": "ES6v-66WgKAF"
      },
      "source": [
        "# Pandas para análise de dados - Estudos\n",
        "\n",
        "* DataFrame Class\n",
        "* Series Class\n",
        "\n",
        "Nessa aula aprenderemos:\n",
        "* Adicionar variável à tabela de dados\n",
        "* Adicionar linha à tabela de dados\n",
        "* Obter dados de uma Series (uma coluna de um DataFrame)\n",
        "\n",
        "\n",
        "\n"
      ]
    },
    {
      "cell_type": "code",
      "execution_count": null,
      "metadata": {
        "colab": {},
        "colab_type": "code",
        "id": "4cX0hEeNfnVj"
      },
      "outputs": [],
      "source": [
        "# Carregando biblioteca \n",
        "import pandas as pd"
      ]
    },
    {
      "cell_type": "markdown",
      "metadata": {
        "colab_type": "text",
        "id": "_poGJCXozCXL"
      },
      "source": [
        "### DataFrame Class"
      ]
    },
    {
      "cell_type": "code",
      "execution_count": null,
      "metadata": {
        "colab": {
          "base_uri": "https://localhost:8080/",
          "height": 153
        },
        "colab_type": "code",
        "id": "LU9M6cc7y8lB",
        "outputId": "b61ed56e-b78a-4025-db63-b786c55bbc20"
      },
      "outputs": [
        {
          "data": {
            "text/plain": [
              "{'ativo': [1000, 2200, 1500, 3250, 2790, 1890],\n",
              " 'empresa': ['A', 'B', 'C', 'D', 'E', 'F'],\n",
              " 'setor': ['financeiro',\n",
              "  'petróleo',\n",
              "  'financeiro',\n",
              "  'construção',\n",
              "  'comércio',\n",
              "  'construção']}"
            ]
          },
          "execution_count": 2,
          "metadata": {
            "tags": []
          },
          "output_type": "execute_result"
        }
      ],
      "source": [
        "# dados\n",
        "\n",
        "dados = {'empresa': ['A', 'B', 'C', 'D', 'E', 'F'], \n",
        "      'setor': ['financeiro', 'petróleo', 'financeiro', 'construção', 'comércio', 'construção'],\n",
        "      'ativo': [1000, 2200, 1500, 3250, 2790, 1890]}\n",
        "\n",
        "dados"
      ]
    },
    {
      "cell_type": "code",
      "execution_count": null,
      "metadata": {
        "colab": {},
        "colab_type": "code",
        "id": "gy0A8l8gCvSp"
      },
      "outputs": [],
      "source": [
        "# criando dataframe\n",
        "df = pd.DataFrame(dados)\n",
        "\n",
        "df.set_index(keys = 'empresa', inplace = True)"
      ]
    },
    {
      "cell_type": "markdown",
      "metadata": {
        "colab_type": "text",
        "id": "mleyPwK0rzeX"
      },
      "source": [
        "### Adicionar Colunas ao DataFrame\n",
        "\n",
        "Ex.: df['nova_coluna'] = [5, 10, 3, ...]"
      ]
    },
    {
      "cell_type": "code",
      "execution_count": null,
      "metadata": {
        "colab": {},
        "colab_type": "code",
        "id": "fKQP-rWTrpv0"
      },
      "outputs": [],
      "source": [
        "df['retorno'] = [0.3, 0.21, 0.83, 0.17, 0.075, 1.28]"
      ]
    },
    {
      "cell_type": "code",
      "execution_count": null,
      "metadata": {
        "colab": {
          "base_uri": "https://localhost:8080/",
          "height": 173
        },
        "colab_type": "code",
        "id": "kKTpifHisX9d",
        "outputId": "355913b2-be0a-41ee-ce1f-18701b843ed2"
      },
      "outputs": [
        {
          "data": {
            "text/html": [
              "<div>\n",
              "<style scoped>\n",
              "    .dataframe tbody tr th:only-of-type {\n",
              "        vertical-align: middle;\n",
              "    }\n",
              "\n",
              "    .dataframe tbody tr th {\n",
              "        vertical-align: top;\n",
              "    }\n",
              "\n",
              "    .dataframe thead th {\n",
              "        text-align: right;\n",
              "    }\n",
              "</style>\n",
              "<table border=\"1\" class=\"dataframe\">\n",
              "  <thead>\n",
              "    <tr style=\"text-align: right;\">\n",
              "      <th></th>\n",
              "      <th>setor</th>\n",
              "      <th>ativo</th>\n",
              "      <th>retorno</th>\n",
              "    </tr>\n",
              "    <tr>\n",
              "      <th>empresa</th>\n",
              "      <th></th>\n",
              "      <th></th>\n",
              "      <th></th>\n",
              "    </tr>\n",
              "  </thead>\n",
              "  <tbody>\n",
              "    <tr>\n",
              "      <th>A</th>\n",
              "      <td>financeiro</td>\n",
              "      <td>1000</td>\n",
              "      <td>0.30</td>\n",
              "    </tr>\n",
              "    <tr>\n",
              "      <th>B</th>\n",
              "      <td>petróleo</td>\n",
              "      <td>2200</td>\n",
              "      <td>0.21</td>\n",
              "    </tr>\n",
              "    <tr>\n",
              "      <th>C</th>\n",
              "      <td>financeiro</td>\n",
              "      <td>1500</td>\n",
              "      <td>0.83</td>\n",
              "    </tr>\n",
              "  </tbody>\n",
              "</table>\n",
              "</div>"
            ],
            "text/plain": [
              "              setor  ativo  retorno\n",
              "empresa                            \n",
              "A        financeiro   1000     0.30\n",
              "B          petróleo   2200     0.21\n",
              "C        financeiro   1500     0.83"
            ]
          },
          "execution_count": 5,
          "metadata": {
            "tags": []
          },
          "output_type": "execute_result"
        }
      ],
      "source": [
        "df.head(5)"
      ]
    },
    {
      "cell_type": "code",
      "execution_count": null,
      "metadata": {
        "colab": {
          "base_uri": "https://localhost:8080/",
          "height": 173
        },
        "colab_type": "code",
        "id": "M6pY6_R__uv5",
        "outputId": "a5b98d99-cc4b-4a79-8c66-9f571e42aa89"
      },
      "outputs": [
        {
          "data": {
            "text/html": [
              "<div>\n",
              "<style scoped>\n",
              "    .dataframe tbody tr th:only-of-type {\n",
              "        vertical-align: middle;\n",
              "    }\n",
              "\n",
              "    .dataframe tbody tr th {\n",
              "        vertical-align: top;\n",
              "    }\n",
              "\n",
              "    .dataframe thead th {\n",
              "        text-align: right;\n",
              "    }\n",
              "</style>\n",
              "<table border=\"1\" class=\"dataframe\">\n",
              "  <thead>\n",
              "    <tr style=\"text-align: right;\">\n",
              "      <th></th>\n",
              "      <th>setor</th>\n",
              "      <th>ativo</th>\n",
              "      <th>retorno</th>\n",
              "    </tr>\n",
              "    <tr>\n",
              "      <th>empresa</th>\n",
              "      <th></th>\n",
              "      <th></th>\n",
              "      <th></th>\n",
              "    </tr>\n",
              "  </thead>\n",
              "  <tbody>\n",
              "    <tr>\n",
              "      <th>D</th>\n",
              "      <td>construção</td>\n",
              "      <td>3250</td>\n",
              "      <td>0.170</td>\n",
              "    </tr>\n",
              "    <tr>\n",
              "      <th>E</th>\n",
              "      <td>comércio</td>\n",
              "      <td>2790</td>\n",
              "      <td>0.075</td>\n",
              "    </tr>\n",
              "    <tr>\n",
              "      <th>F</th>\n",
              "      <td>construção</td>\n",
              "      <td>1890</td>\n",
              "      <td>1.280</td>\n",
              "    </tr>\n",
              "  </tbody>\n",
              "</table>\n",
              "</div>"
            ],
            "text/plain": [
              "              setor  ativo  retorno\n",
              "empresa                            \n",
              "D        construção   3250    0.170\n",
              "E          comércio   2790    0.075\n",
              "F        construção   1890    1.280"
            ]
          },
          "execution_count": 6,
          "metadata": {
            "tags": []
          },
          "output_type": "execute_result"
        }
      ],
      "source": [
        "df.tail(5)"
      ]
    },
    {
      "cell_type": "markdown",
      "metadata": {
        "colab_type": "text",
        "id": "NfoinNtOsd7H"
      },
      "source": [
        "### Adicionar linha ao DataFrame\n",
        "\n",
        "* loc (para uma linha)\n",
        "* append (para múltiplas linhas)"
      ]
    },
    {
      "cell_type": "code",
      "execution_count": null,
      "metadata": {
        "colab": {},
        "colab_type": "code",
        "id": "6o3QJYXEsZRS"
      },
      "outputs": [],
      "source": [
        "df.loc['G'] = ['consumo cíclico', 3401, 0.72]"
      ]
    },
    {
      "cell_type": "code",
      "execution_count": null,
      "metadata": {
        "colab": {
          "base_uri": "https://localhost:8080/",
          "height": 297
        },
        "colab_type": "code",
        "id": "vyn4tp3JtMgc",
        "outputId": "59b86be8-0b65-4482-e8c5-ba96deafa1fb"
      },
      "outputs": [
        {
          "data": {
            "text/html": [
              "<div>\n",
              "<style scoped>\n",
              "    .dataframe tbody tr th:only-of-type {\n",
              "        vertical-align: middle;\n",
              "    }\n",
              "\n",
              "    .dataframe tbody tr th {\n",
              "        vertical-align: top;\n",
              "    }\n",
              "\n",
              "    .dataframe thead th {\n",
              "        text-align: right;\n",
              "    }\n",
              "</style>\n",
              "<table border=\"1\" class=\"dataframe\">\n",
              "  <thead>\n",
              "    <tr style=\"text-align: right;\">\n",
              "      <th></th>\n",
              "      <th>setor</th>\n",
              "      <th>ativo</th>\n",
              "      <th>retorno</th>\n",
              "    </tr>\n",
              "    <tr>\n",
              "      <th>empresa</th>\n",
              "      <th></th>\n",
              "      <th></th>\n",
              "      <th></th>\n",
              "    </tr>\n",
              "  </thead>\n",
              "  <tbody>\n",
              "    <tr>\n",
              "      <th>A</th>\n",
              "      <td>financeiro</td>\n",
              "      <td>1000</td>\n",
              "      <td>0.300</td>\n",
              "    </tr>\n",
              "    <tr>\n",
              "      <th>B</th>\n",
              "      <td>petróleo</td>\n",
              "      <td>2200</td>\n",
              "      <td>0.210</td>\n",
              "    </tr>\n",
              "    <tr>\n",
              "      <th>C</th>\n",
              "      <td>financeiro</td>\n",
              "      <td>1500</td>\n",
              "      <td>0.830</td>\n",
              "    </tr>\n",
              "    <tr>\n",
              "      <th>D</th>\n",
              "      <td>construção</td>\n",
              "      <td>3250</td>\n",
              "      <td>0.170</td>\n",
              "    </tr>\n",
              "    <tr>\n",
              "      <th>E</th>\n",
              "      <td>comércio</td>\n",
              "      <td>2790</td>\n",
              "      <td>0.075</td>\n",
              "    </tr>\n",
              "    <tr>\n",
              "      <th>F</th>\n",
              "      <td>construção</td>\n",
              "      <td>1890</td>\n",
              "      <td>1.280</td>\n",
              "    </tr>\n",
              "    <tr>\n",
              "      <th>G</th>\n",
              "      <td>consumo cíclico</td>\n",
              "      <td>3401</td>\n",
              "      <td>0.720</td>\n",
              "    </tr>\n",
              "  </tbody>\n",
              "</table>\n",
              "</div>"
            ],
            "text/plain": [
              "                   setor  ativo  retorno\n",
              "empresa                                 \n",
              "A             financeiro   1000    0.300\n",
              "B               petróleo   2200    0.210\n",
              "C             financeiro   1500    0.830\n",
              "D             construção   3250    0.170\n",
              "E               comércio   2790    0.075\n",
              "F             construção   1890    1.280\n",
              "G        consumo cíclico   3401    0.720"
            ]
          },
          "execution_count": 8,
          "metadata": {
            "tags": []
          },
          "output_type": "execute_result"
        }
      ],
      "source": [
        "df"
      ]
    },
    {
      "cell_type": "code",
      "execution_count": null,
      "metadata": {
        "colab": {
          "base_uri": "https://localhost:8080/",
          "height": 359
        },
        "colab_type": "code",
        "id": "9I_s7N5yrhAt",
        "outputId": "c80d017d-fbb7-427b-f4a5-6125971036bd"
      },
      "outputs": [
        {
          "data": {
            "text/html": [
              "<div>\n",
              "<style scoped>\n",
              "    .dataframe tbody tr th:only-of-type {\n",
              "        vertical-align: middle;\n",
              "    }\n",
              "\n",
              "    .dataframe tbody tr th {\n",
              "        vertical-align: top;\n",
              "    }\n",
              "\n",
              "    .dataframe thead th {\n",
              "        text-align: right;\n",
              "    }\n",
              "</style>\n",
              "<table border=\"1\" class=\"dataframe\">\n",
              "  <thead>\n",
              "    <tr style=\"text-align: right;\">\n",
              "      <th></th>\n",
              "      <th>setor</th>\n",
              "      <th>ativo</th>\n",
              "      <th>retorno</th>\n",
              "    </tr>\n",
              "  </thead>\n",
              "  <tbody>\n",
              "    <tr>\n",
              "      <th>A</th>\n",
              "      <td>financeiro</td>\n",
              "      <td>1000</td>\n",
              "      <td>0.300</td>\n",
              "    </tr>\n",
              "    <tr>\n",
              "      <th>B</th>\n",
              "      <td>petróleo</td>\n",
              "      <td>2200</td>\n",
              "      <td>0.210</td>\n",
              "    </tr>\n",
              "    <tr>\n",
              "      <th>C</th>\n",
              "      <td>financeiro</td>\n",
              "      <td>1500</td>\n",
              "      <td>0.830</td>\n",
              "    </tr>\n",
              "    <tr>\n",
              "      <th>D</th>\n",
              "      <td>construção</td>\n",
              "      <td>3250</td>\n",
              "      <td>0.170</td>\n",
              "    </tr>\n",
              "    <tr>\n",
              "      <th>E</th>\n",
              "      <td>comércio</td>\n",
              "      <td>2790</td>\n",
              "      <td>0.075</td>\n",
              "    </tr>\n",
              "    <tr>\n",
              "      <th>F</th>\n",
              "      <td>construção</td>\n",
              "      <td>1890</td>\n",
              "      <td>1.280</td>\n",
              "    </tr>\n",
              "    <tr>\n",
              "      <th>G</th>\n",
              "      <td>consumo cíclico</td>\n",
              "      <td>3401</td>\n",
              "      <td>0.720</td>\n",
              "    </tr>\n",
              "    <tr>\n",
              "      <th>H</th>\n",
              "      <td>comércio</td>\n",
              "      <td>1222</td>\n",
              "      <td>1.550</td>\n",
              "    </tr>\n",
              "    <tr>\n",
              "      <th>I</th>\n",
              "      <td>financeiro</td>\n",
              "      <td>3124</td>\n",
              "      <td>1.090</td>\n",
              "    </tr>\n",
              "    <tr>\n",
              "      <th>J</th>\n",
              "      <td>construção</td>\n",
              "      <td>4150</td>\n",
              "      <td>0.700</td>\n",
              "    </tr>\n",
              "  </tbody>\n",
              "</table>\n",
              "</div>"
            ],
            "text/plain": [
              "             setor  ativo  retorno\n",
              "A       financeiro   1000    0.300\n",
              "B         petróleo   2200    0.210\n",
              "C       financeiro   1500    0.830\n",
              "D       construção   3250    0.170\n",
              "E         comércio   2790    0.075\n",
              "F       construção   1890    1.280\n",
              "G  consumo cíclico   3401    0.720\n",
              "H         comércio   1222    1.550\n",
              "I       financeiro   3124    1.090\n",
              "J       construção   4150    0.700"
            ]
          },
          "execution_count": 9,
          "metadata": {
            "tags": []
          },
          "output_type": "execute_result"
        }
      ],
      "source": [
        "# cria um data frame e faz append\n",
        "novos_dados = { \n",
        "      'setor': ['comércio', 'financeiro', 'construção'],\n",
        "      'ativo': [1222, 3124, 4150],\n",
        "      'retorno': [1.55, 1.09, 0.7]}\n",
        "\n",
        "novo_df = pd.DataFrame(data=novos_dados, index = ['H', 'I', 'J'])\n",
        "\n",
        "df.append(novo_df)"
      ]
    },
    {
      "cell_type": "markdown",
      "metadata": {
        "colab_type": "text",
        "id": "vqbLU2ewwIEJ"
      },
      "source": [
        "## Series class\n",
        "\n",
        "* *Series* representa apenas uma coluna de um DataFrame.\n",
        "* A *Series* exibe o *index* como primeira \"coluna\" e os valores são mostrados como segunda \"coluna\". \n",
        "\n",
        "Alguns atributos de uma *Series*\n",
        ">Atributo | Descrição\n",
        ">--- | ---\n",
        "> loc | subconjunto usando valor de índice\n",
        "> iloc | subconjunto usando posição de índice\n",
        "> dtype | tipo do conteúdo de *Series*\n",
        "> shape | Dimensão dos dados\n",
        "> T | Transposta da série\n",
        "> size | Número de elementos \n",
        "> values | ndarray ou dado semelhante de *Series* \n"
      ]
    },
    {
      "cell_type": "code",
      "execution_count": null,
      "metadata": {
        "colab": {
          "base_uri": "https://localhost:8080/",
          "height": 170
        },
        "colab_type": "code",
        "id": "xe7GYYT7wf6C",
        "outputId": "c0c7f5c5-846e-4ef9-9265-4583687a0beb"
      },
      "outputs": [
        {
          "data": {
            "text/plain": [
              "empresa\n",
              "A    0.300\n",
              "B    0.210\n",
              "C    0.830\n",
              "D    0.170\n",
              "E    0.075\n",
              "F    1.280\n",
              "G    0.720\n",
              "Name: retorno, dtype: float64"
            ]
          },
          "execution_count": 10,
          "metadata": {
            "tags": []
          },
          "output_type": "execute_result"
        }
      ],
      "source": [
        "df['retorno']"
      ]
    },
    {
      "cell_type": "code",
      "execution_count": null,
      "metadata": {
        "colab": {
          "base_uri": "https://localhost:8080/",
          "height": 170
        },
        "colab_type": "code",
        "id": "JXlr0bNWwkYj",
        "outputId": "fa18d2aa-5450-4e97-feff-8dd680c795c0"
      },
      "outputs": [
        {
          "data": {
            "text/plain": [
              "empresa\n",
              "A    0.300\n",
              "B    0.210\n",
              "C    0.830\n",
              "D    0.170\n",
              "E    0.075\n",
              "F    1.280\n",
              "G    0.720\n",
              "Name: retorno, dtype: float64"
            ]
          },
          "execution_count": 11,
          "metadata": {
            "tags": []
          },
          "output_type": "execute_result"
        }
      ],
      "source": [
        "retorno = df['retorno']\n",
        "\n",
        "retorno"
      ]
    },
    {
      "cell_type": "code",
      "execution_count": null,
      "metadata": {
        "colab": {
          "base_uri": "https://localhost:8080/",
          "height": 34
        },
        "colab_type": "code",
        "id": "jtMSNl8PwoGR",
        "outputId": "5bf1de12-e0ce-49cc-c159-e3482167414b"
      },
      "outputs": [
        {
          "data": {
            "text/plain": [
              "pandas.core.series.Series"
            ]
          },
          "execution_count": 11,
          "metadata": {
            "tags": []
          },
          "output_type": "execute_result"
        }
      ],
      "source": [
        "type(retorno)"
      ]
    },
    {
      "cell_type": "code",
      "execution_count": null,
      "metadata": {
        "colab": {
          "base_uri": "https://localhost:8080/",
          "height": 34
        },
        "colab_type": "code",
        "id": "-GmuL8rzw16A",
        "outputId": "668ca73d-00ac-4c59-c7cb-346257e784d4"
      },
      "outputs": [
        {
          "data": {
            "text/plain": [
              "dtype('float64')"
            ]
          },
          "execution_count": 12,
          "metadata": {
            "tags": []
          },
          "output_type": "execute_result"
        }
      ],
      "source": [
        "retorno.dtype"
      ]
    },
    {
      "cell_type": "code",
      "execution_count": null,
      "metadata": {
        "colab": {
          "base_uri": "https://localhost:8080/",
          "height": 34
        },
        "colab_type": "code",
        "id": "29q3qN5NyXW2",
        "outputId": "f4f8fc8c-217b-45a5-8bda-121c3260aab5"
      },
      "outputs": [
        {
          "data": {
            "text/plain": [
              "0.21"
            ]
          },
          "execution_count": 13,
          "metadata": {
            "tags": []
          },
          "output_type": "execute_result"
        }
      ],
      "source": [
        "retorno.loc['B']"
      ]
    },
    {
      "cell_type": "code",
      "execution_count": null,
      "metadata": {
        "colab": {
          "base_uri": "https://localhost:8080/",
          "height": 34
        },
        "colab_type": "code",
        "id": "p7tN78nhyala",
        "outputId": "2bb2c764-4de3-4f46-8a93-97993c907514"
      },
      "outputs": [
        {
          "data": {
            "text/plain": [
              "0.21"
            ]
          },
          "execution_count": 14,
          "metadata": {
            "tags": []
          },
          "output_type": "execute_result"
        }
      ],
      "source": [
        "retorno.iloc[1]"
      ]
    },
    {
      "cell_type": "code",
      "execution_count": null,
      "metadata": {
        "colab": {
          "base_uri": "https://localhost:8080/",
          "height": 34
        },
        "colab_type": "code",
        "id": "a_kYzH0Yyaxh",
        "outputId": "40455d11-fa92-4a61-d811-8670fa310d51"
      },
      "outputs": [
        {
          "data": {
            "text/plain": [
              "(7,)"
            ]
          },
          "execution_count": 12,
          "metadata": {
            "tags": []
          },
          "output_type": "execute_result"
        }
      ],
      "source": [
        "retorno.shape"
      ]
    },
    {
      "cell_type": "code",
      "execution_count": null,
      "metadata": {
        "colab": {
          "base_uri": "https://localhost:8080/",
          "height": 34
        },
        "colab_type": "code",
        "id": "Y_gOckjqyawN",
        "outputId": "5a36c58e-4ddf-4c0d-b68a-0090bf24102a"
      },
      "outputs": [
        {
          "data": {
            "text/plain": [
              "7"
            ]
          },
          "execution_count": 16,
          "metadata": {
            "tags": []
          },
          "output_type": "execute_result"
        }
      ],
      "source": [
        "retorno.size"
      ]
    },
    {
      "cell_type": "code",
      "execution_count": null,
      "metadata": {
        "colab": {
          "base_uri": "https://localhost:8080/",
          "height": 34
        },
        "colab_type": "code",
        "id": "69bQJ8EaymWJ",
        "outputId": "16d19e2f-f991-44f8-f8ce-7a698dd18416"
      },
      "outputs": [
        {
          "data": {
            "text/plain": [
              "array([0.3  , 0.21 , 0.83 , 0.17 , 0.075, 1.28 , 0.72 ])"
            ]
          },
          "execution_count": 17,
          "metadata": {
            "tags": []
          },
          "output_type": "execute_result"
        }
      ],
      "source": [
        "retorno.values"
      ]
    },
    {
      "cell_type": "code",
      "execution_count": null,
      "metadata": {
        "colab": {
          "base_uri": "https://localhost:8080/",
          "height": 297
        },
        "colab_type": "code",
        "id": "sbCTEVFymRh5",
        "outputId": "1107a03c-a5a1-435a-8c33-2ca35bc09a5d"
      },
      "outputs": [
        {
          "data": {
            "text/html": [
              "<div>\n",
              "<style scoped>\n",
              "    .dataframe tbody tr th:only-of-type {\n",
              "        vertical-align: middle;\n",
              "    }\n",
              "\n",
              "    .dataframe tbody tr th {\n",
              "        vertical-align: top;\n",
              "    }\n",
              "\n",
              "    .dataframe thead th {\n",
              "        text-align: right;\n",
              "    }\n",
              "</style>\n",
              "<table border=\"1\" class=\"dataframe\">\n",
              "  <thead>\n",
              "    <tr style=\"text-align: right;\">\n",
              "      <th></th>\n",
              "      <th>setor</th>\n",
              "      <th>ativo</th>\n",
              "      <th>retorno</th>\n",
              "    </tr>\n",
              "    <tr>\n",
              "      <th>empresa</th>\n",
              "      <th></th>\n",
              "      <th></th>\n",
              "      <th></th>\n",
              "    </tr>\n",
              "  </thead>\n",
              "  <tbody>\n",
              "    <tr>\n",
              "      <th>A</th>\n",
              "      <td>financeiro</td>\n",
              "      <td>1000</td>\n",
              "      <td>0.300</td>\n",
              "    </tr>\n",
              "    <tr>\n",
              "      <th>B</th>\n",
              "      <td>petróleo</td>\n",
              "      <td>2200</td>\n",
              "      <td>0.210</td>\n",
              "    </tr>\n",
              "    <tr>\n",
              "      <th>C</th>\n",
              "      <td>financeiro</td>\n",
              "      <td>1500</td>\n",
              "      <td>0.830</td>\n",
              "    </tr>\n",
              "    <tr>\n",
              "      <th>D</th>\n",
              "      <td>construção</td>\n",
              "      <td>3250</td>\n",
              "      <td>0.170</td>\n",
              "    </tr>\n",
              "    <tr>\n",
              "      <th>E</th>\n",
              "      <td>comércio</td>\n",
              "      <td>2790</td>\n",
              "      <td>0.075</td>\n",
              "    </tr>\n",
              "    <tr>\n",
              "      <th>F</th>\n",
              "      <td>construção</td>\n",
              "      <td>1890</td>\n",
              "      <td>1.280</td>\n",
              "    </tr>\n",
              "    <tr>\n",
              "      <th>G</th>\n",
              "      <td>consumo cíclico</td>\n",
              "      <td>3401</td>\n",
              "      <td>0.720</td>\n",
              "    </tr>\n",
              "  </tbody>\n",
              "</table>\n",
              "</div>"
            ],
            "text/plain": [
              "                   setor  ativo  retorno\n",
              "empresa                                 \n",
              "A             financeiro   1000    0.300\n",
              "B               petróleo   2200    0.210\n",
              "C             financeiro   1500    0.830\n",
              "D             construção   3250    0.170\n",
              "E               comércio   2790    0.075\n",
              "F             construção   1890    1.280\n",
              "G        consumo cíclico   3401    0.720"
            ]
          },
          "execution_count": 18,
          "metadata": {
            "tags": []
          },
          "output_type": "execute_result"
        }
      ],
      "source": [
        "df"
      ]
    },
    {
      "cell_type": "code",
      "execution_count": null,
      "metadata": {},
      "outputs": [],
      "source": []
    },
    {
      "cell_type": "markdown",
      "metadata": {
        "colab_type": "text",
        "id": "u6YYeprOouQG"
      },
      "source": [
        "## Exercício\n",
        "\n",
        "1. Crie um data frame com as empresas 'A', 'D', 'F' e 'G\b'\n",
        "  * Mostre as colunas 'ativo' e 'retorno'\n",
        "\n",
        "2. Adicione as empresas 'B', 'C', 'E' ao dataframe\n",
        "\n",
        "3. Crie uma series do retorno e mostre o valor da empresa 'D'"
      ]
    },
    {
      "cell_type": "code",
      "execution_count": null,
      "metadata": {
        "colab": {
          "base_uri": "https://localhost:8080/",
          "height": 204
        },
        "colab_type": "code",
        "id": "Adf2aTgqp4I8",
        "outputId": "0dd7958e-604f-4397-8143-1e7e6845d42c"
      },
      "outputs": [
        {
          "data": {
            "text/html": [
              "<div>\n",
              "<style scoped>\n",
              "    .dataframe tbody tr th:only-of-type {\n",
              "        vertical-align: middle;\n",
              "    }\n",
              "\n",
              "    .dataframe tbody tr th {\n",
              "        vertical-align: top;\n",
              "    }\n",
              "\n",
              "    .dataframe thead th {\n",
              "        text-align: right;\n",
              "    }\n",
              "</style>\n",
              "<table border=\"1\" class=\"dataframe\">\n",
              "  <thead>\n",
              "    <tr style=\"text-align: right;\">\n",
              "      <th></th>\n",
              "      <th>ativo</th>\n",
              "      <th>retorno</th>\n",
              "    </tr>\n",
              "    <tr>\n",
              "      <th>empresa</th>\n",
              "      <th></th>\n",
              "      <th></th>\n",
              "    </tr>\n",
              "  </thead>\n",
              "  <tbody>\n",
              "    <tr>\n",
              "      <th>A</th>\n",
              "      <td>1000</td>\n",
              "      <td>0.30</td>\n",
              "    </tr>\n",
              "    <tr>\n",
              "      <th>D</th>\n",
              "      <td>3250</td>\n",
              "      <td>0.17</td>\n",
              "    </tr>\n",
              "    <tr>\n",
              "      <th>F</th>\n",
              "      <td>1890</td>\n",
              "      <td>1.28</td>\n",
              "    </tr>\n",
              "    <tr>\n",
              "      <th>G</th>\n",
              "      <td>3401</td>\n",
              "      <td>0.72</td>\n",
              "    </tr>\n",
              "  </tbody>\n",
              "</table>\n",
              "</div>"
            ],
            "text/plain": [
              "         ativo  retorno\n",
              "empresa                \n",
              "A         1000     0.30\n",
              "D         3250     0.17\n",
              "F         1890     1.28\n",
              "G         3401     0.72"
            ]
          },
          "execution_count": 92,
          "metadata": {
            "tags": []
          },
          "output_type": "execute_result"
        }
      ],
      "source": [
        "# 1. \n",
        "\n",
        "dados = df.loc[['A', 'D', 'F', 'G']]\n",
        "\n",
        "dados[['ativo', 'retorno']]"
      ]
    },
    {
      "cell_type": "code",
      "execution_count": null,
      "metadata": {
        "colab": {
          "base_uri": "https://localhost:8080/",
          "height": 266
        },
        "colab_type": "code",
        "id": "Iw9yq_JuqJI8",
        "outputId": "e2e42cc6-6e97-451e-8f65-f8c0ef687168"
      },
      "outputs": [
        {
          "data": {
            "text/html": [
              "<div>\n",
              "<style scoped>\n",
              "    .dataframe tbody tr th:only-of-type {\n",
              "        vertical-align: middle;\n",
              "    }\n",
              "\n",
              "    .dataframe tbody tr th {\n",
              "        vertical-align: top;\n",
              "    }\n",
              "\n",
              "    .dataframe thead th {\n",
              "        text-align: right;\n",
              "    }\n",
              "</style>\n",
              "<table border=\"1\" class=\"dataframe\">\n",
              "  <thead>\n",
              "    <tr style=\"text-align: right;\">\n",
              "      <th></th>\n",
              "      <th>setor</th>\n",
              "      <th>ativo</th>\n",
              "      <th>retorno</th>\n",
              "    </tr>\n",
              "  </thead>\n",
              "  <tbody>\n",
              "    <tr>\n",
              "      <th>A</th>\n",
              "      <td>financeiro</td>\n",
              "      <td>1000</td>\n",
              "      <td>0.300</td>\n",
              "    </tr>\n",
              "    <tr>\n",
              "      <th>D</th>\n",
              "      <td>construção</td>\n",
              "      <td>3250</td>\n",
              "      <td>0.170</td>\n",
              "    </tr>\n",
              "    <tr>\n",
              "      <th>F</th>\n",
              "      <td>construção</td>\n",
              "      <td>1890</td>\n",
              "      <td>1.280</td>\n",
              "    </tr>\n",
              "    <tr>\n",
              "      <th>G</th>\n",
              "      <td>consumo cíclico</td>\n",
              "      <td>3401</td>\n",
              "      <td>0.720</td>\n",
              "    </tr>\n",
              "    <tr>\n",
              "      <th>B</th>\n",
              "      <td>petróleo</td>\n",
              "      <td>2200</td>\n",
              "      <td>0.210</td>\n",
              "    </tr>\n",
              "    <tr>\n",
              "      <th>C</th>\n",
              "      <td>financeiro</td>\n",
              "      <td>1500</td>\n",
              "      <td>0.830</td>\n",
              "    </tr>\n",
              "    <tr>\n",
              "      <th>E</th>\n",
              "      <td>comércio</td>\n",
              "      <td>2790</td>\n",
              "      <td>0.075</td>\n",
              "    </tr>\n",
              "  </tbody>\n",
              "</table>\n",
              "</div>"
            ],
            "text/plain": [
              "             setor  ativo  retorno\n",
              "A       financeiro   1000    0.300\n",
              "D       construção   3250    0.170\n",
              "F       construção   1890    1.280\n",
              "G  consumo cíclico   3401    0.720\n",
              "B         petróleo   2200    0.210\n",
              "C       financeiro   1500    0.830\n",
              "E         comércio   2790    0.075"
            ]
          },
          "execution_count": 96,
          "metadata": {
            "tags": []
          },
          "output_type": "execute_result"
        }
      ],
      "source": [
        "# 2.\n",
        "\n",
        "novos_dados ={'setor':['petróleo','financeiro', 'comércio'], \n",
        "              'ativo': [2200, 1500, 2790],\n",
        "              'retorno': [0.210, 0.830, 0.075]}\n",
        "\n",
        "novos_dados = pd.DataFrame(novos_dados, index = ['B', 'C', 'E']) \n",
        "\n",
        "dados.append(novos_dados)"
      ]
    },
    {
      "cell_type": "code",
      "execution_count": null,
      "metadata": {
        "colab": {
          "base_uri": "https://localhost:8080/",
          "height": 34
        },
        "colab_type": "code",
        "id": "v8qy3oQPqUea",
        "outputId": "c411cc50-bb0f-4020-d175-e3400b4f23e9"
      },
      "outputs": [
        {
          "data": {
            "text/plain": [
              "0.17"
            ]
          },
          "execution_count": 97,
          "metadata": {
            "tags": []
          },
          "output_type": "execute_result"
        }
      ],
      "source": [
        "# 3.\n",
        "retorno = dados['retorno']\n",
        "\n",
        "retorno.loc['D']"
      ]
    },
    {
      "cell_type": "code",
      "execution_count": null,
      "metadata": {},
      "outputs": [],
      "source": []
    },
    {
      "cell_type": "markdown",
      "metadata": {},
      "source": [
        "## Análise de Dados com Pandas - Pt2\n",
        "\n",
        "Conteúdo:\n",
        "* Estatística Descritiva de uma tabela de dados\n",
        "* Análise Exploratória (Visualizações)\n"
      ]
    },
    {
      "cell_type": "markdown",
      "metadata": {},
      "source": [
        "## Estatística Descritiva\n",
        "\n",
        "* Vamos utilizar os métodos ao DataFrame ou à série (uma variável apenas)\n",
        "\n",
        ">Método | Descrição\n",
        ">--- | ---\n",
        ">count | quantidade\n",
        ">mean | média\n",
        ">std | desvio padrão\n",
        "> var | variância\n",
        "> median | mediana\n",
        "> min | mínimo\n",
        "> max | máximo\n",
        "> quantile | quantis\n",
        "\n",
        "* Podemos utilizar o método *describe* que apresenta:\n",
        "  * count\n",
        "  * mean\t\n",
        "  * std\n",
        "  * min\n",
        "  * 25%\t\n",
        "  * 50%\n",
        "  * 75%\n",
        "  * max"
      ]
    },
    {
      "cell_type": "code",
      "execution_count": 1,
      "metadata": {},
      "outputs": [],
      "source": [
        "# Carregando biblioteca \n",
        "import pandas as pd"
      ]
    },
    {
      "cell_type": "code",
      "execution_count": 2,
      "metadata": {},
      "outputs": [
        {
          "data": {
            "text/html": [
              "<div>\n",
              "<style scoped>\n",
              "    .dataframe tbody tr th:only-of-type {\n",
              "        vertical-align: middle;\n",
              "    }\n",
              "\n",
              "    .dataframe tbody tr th {\n",
              "        vertical-align: top;\n",
              "    }\n",
              "\n",
              "    .dataframe thead th {\n",
              "        text-align: right;\n",
              "    }\n",
              "</style>\n",
              "<table border=\"1\" class=\"dataframe\">\n",
              "  <thead>\n",
              "    <tr style=\"text-align: right;\">\n",
              "      <th></th>\n",
              "      <th>setor</th>\n",
              "      <th>ativo</th>\n",
              "      <th>retorno</th>\n",
              "    </tr>\n",
              "  </thead>\n",
              "  <tbody>\n",
              "    <tr>\n",
              "      <th>A</th>\n",
              "      <td>financeiro</td>\n",
              "      <td>1000</td>\n",
              "      <td>0.300</td>\n",
              "    </tr>\n",
              "    <tr>\n",
              "      <th>B</th>\n",
              "      <td>petróleo</td>\n",
              "      <td>2200</td>\n",
              "      <td>0.210</td>\n",
              "    </tr>\n",
              "    <tr>\n",
              "      <th>C</th>\n",
              "      <td>financeiro</td>\n",
              "      <td>1500</td>\n",
              "      <td>0.830</td>\n",
              "    </tr>\n",
              "    <tr>\n",
              "      <th>D</th>\n",
              "      <td>construção</td>\n",
              "      <td>3250</td>\n",
              "      <td>0.170</td>\n",
              "    </tr>\n",
              "    <tr>\n",
              "      <th>E</th>\n",
              "      <td>comércio</td>\n",
              "      <td>2790</td>\n",
              "      <td>0.075</td>\n",
              "    </tr>\n",
              "    <tr>\n",
              "      <th>F</th>\n",
              "      <td>construção</td>\n",
              "      <td>1890</td>\n",
              "      <td>1.280</td>\n",
              "    </tr>\n",
              "    <tr>\n",
              "      <th>G</th>\n",
              "      <td>consumo cíclico</td>\n",
              "      <td>3401</td>\n",
              "      <td>0.720</td>\n",
              "    </tr>\n",
              "  </tbody>\n",
              "</table>\n",
              "</div>"
            ],
            "text/plain": [
              "             setor  ativo  retorno\n",
              "A       financeiro   1000    0.300\n",
              "B         petróleo   2200    0.210\n",
              "C       financeiro   1500    0.830\n",
              "D       construção   3250    0.170\n",
              "E         comércio   2790    0.075\n",
              "F       construção   1890    1.280\n",
              "G  consumo cíclico   3401    0.720"
            ]
          },
          "execution_count": 2,
          "metadata": {},
          "output_type": "execute_result"
        }
      ],
      "source": [
        "# dados \n",
        "\n",
        "df = pd.DataFrame(data = [['financeiro', 1000, 0.300], ['petróleo', 2200, 0.21],\n",
        "                          ['financeiro', 1500, 0.83], ['construção', 3250, 0.17],\n",
        "                          ['comércio', 2790, 0.075], ['construção', 1890, 1.28],\n",
        "                          ['consumo cíclico', 3401, 0.72]], \n",
        "                  index = ['A', 'B', 'C', 'D', 'E', 'F', 'G'],\n",
        "                  columns = ['setor', 'ativo', 'retorno'])\n",
        "df"
      ]
    },
    {
      "cell_type": "code",
      "execution_count": 3,
      "metadata": {},
      "outputs": [
        {
          "data": {
            "text/html": [
              "<div>\n",
              "<style scoped>\n",
              "    .dataframe tbody tr th:only-of-type {\n",
              "        vertical-align: middle;\n",
              "    }\n",
              "\n",
              "    .dataframe tbody tr th {\n",
              "        vertical-align: top;\n",
              "    }\n",
              "\n",
              "    .dataframe thead th {\n",
              "        text-align: right;\n",
              "    }\n",
              "</style>\n",
              "<table border=\"1\" class=\"dataframe\">\n",
              "  <thead>\n",
              "    <tr style=\"text-align: right;\">\n",
              "      <th></th>\n",
              "      <th>ativo</th>\n",
              "      <th>retorno</th>\n",
              "    </tr>\n",
              "  </thead>\n",
              "  <tbody>\n",
              "    <tr>\n",
              "      <th>count</th>\n",
              "      <td>7.000000</td>\n",
              "      <td>7.000000</td>\n",
              "    </tr>\n",
              "    <tr>\n",
              "      <th>mean</th>\n",
              "      <td>2290.142857</td>\n",
              "      <td>0.512143</td>\n",
              "    </tr>\n",
              "    <tr>\n",
              "      <th>std</th>\n",
              "      <td>900.205611</td>\n",
              "      <td>0.443150</td>\n",
              "    </tr>\n",
              "    <tr>\n",
              "      <th>min</th>\n",
              "      <td>1000.000000</td>\n",
              "      <td>0.075000</td>\n",
              "    </tr>\n",
              "    <tr>\n",
              "      <th>25%</th>\n",
              "      <td>1695.000000</td>\n",
              "      <td>0.190000</td>\n",
              "    </tr>\n",
              "    <tr>\n",
              "      <th>50%</th>\n",
              "      <td>2200.000000</td>\n",
              "      <td>0.300000</td>\n",
              "    </tr>\n",
              "    <tr>\n",
              "      <th>75%</th>\n",
              "      <td>3020.000000</td>\n",
              "      <td>0.775000</td>\n",
              "    </tr>\n",
              "    <tr>\n",
              "      <th>max</th>\n",
              "      <td>3401.000000</td>\n",
              "      <td>1.280000</td>\n",
              "    </tr>\n",
              "  </tbody>\n",
              "</table>\n",
              "</div>"
            ],
            "text/plain": [
              "             ativo   retorno\n",
              "count     7.000000  7.000000\n",
              "mean   2290.142857  0.512143\n",
              "std     900.205611  0.443150\n",
              "min    1000.000000  0.075000\n",
              "25%    1695.000000  0.190000\n",
              "50%    2200.000000  0.300000\n",
              "75%    3020.000000  0.775000\n",
              "max    3401.000000  1.280000"
            ]
          },
          "execution_count": 3,
          "metadata": {},
          "output_type": "execute_result"
        }
      ],
      "source": [
        "df.describe()"
      ]
    },
    {
      "cell_type": "code",
      "execution_count": null,
      "metadata": {},
      "outputs": [
        {
          "data": {
            "text/plain": [
              "setor      7\n",
              "ativo      7\n",
              "retorno    7\n",
              "dtype: int64"
            ]
          },
          "metadata": {},
          "output_type": "display_data"
        }
      ],
      "source": [
        "# quantidade\n",
        "df.count()"
      ]
    },
    {
      "cell_type": "code",
      "execution_count": null,
      "metadata": {},
      "outputs": [
        {
          "data": {
            "text/plain": [
              "ativo      2290.142857\n",
              "retorno       0.512143\n",
              "dtype: float64"
            ]
          },
          "metadata": {},
          "output_type": "display_data"
        }
      ],
      "source": [
        "# média\n",
        "df.mean()"
      ]
    },
    {
      "cell_type": "code",
      "execution_count": null,
      "metadata": {},
      "outputs": [
        {
          "data": {
            "text/plain": [
              "ativo      900.205611\n",
              "retorno      0.443150\n",
              "dtype: float64"
            ]
          },
          "metadata": {},
          "output_type": "display_data"
        }
      ],
      "source": [
        "# desvio padrão\n",
        "df.std()"
      ]
    },
    {
      "cell_type": "code",
      "execution_count": null,
      "metadata": {},
      "outputs": [
        {
          "data": {
            "text/plain": [
              "ativo      810370.142857\n",
              "retorno         0.196382\n",
              "dtype: float64"
            ]
          },
          "metadata": {},
          "output_type": "display_data"
        }
      ],
      "source": [
        "# variância\n",
        "df.var()"
      ]
    },
    {
      "cell_type": "code",
      "execution_count": null,
      "metadata": {},
      "outputs": [
        {
          "data": {
            "text/plain": [
              "setor      comércio\n",
              "ativo          1000\n",
              "retorno       0.075\n",
              "dtype: object"
            ]
          },
          "metadata": {},
          "output_type": "display_data"
        }
      ],
      "source": [
        "# mínimo\n",
        "df.min()"
      ]
    },
    {
      "cell_type": "code",
      "execution_count": null,
      "metadata": {},
      "outputs": [
        {
          "data": {
            "text/plain": [
              "setor      petróleo\n",
              "ativo          3401\n",
              "retorno        1.28\n",
              "dtype: object"
            ]
          },
          "metadata": {},
          "output_type": "display_data"
        }
      ],
      "source": [
        "# máximo\n",
        "df.max()"
      ]
    },
    {
      "cell_type": "code",
      "execution_count": null,
      "metadata": {},
      "outputs": [
        {
          "data": {
            "text/plain": [
              "ativo      2200.0\n",
              "retorno       0.3\n",
              "Name: 0.5, dtype: float64"
            ]
          },
          "metadata": {},
          "output_type": "display_data"
        }
      ],
      "source": [
        "# quantil\n",
        "df.quantile(0.5)"
      ]
    },
    {
      "cell_type": "code",
      "execution_count": null,
      "metadata": {},
      "outputs": [
        {
          "data": {
            "text/html": [
              "<div>\n",
              "<style scoped>\n",
              "    .dataframe tbody tr th:only-of-type {\n",
              "        vertical-align: middle;\n",
              "    }\n",
              "\n",
              "    .dataframe tbody tr th {\n",
              "        vertical-align: top;\n",
              "    }\n",
              "\n",
              "    .dataframe thead th {\n",
              "        text-align: right;\n",
              "    }\n",
              "</style>\n",
              "<table border=\"1\" class=\"dataframe\">\n",
              "  <thead>\n",
              "    <tr style=\"text-align: right;\">\n",
              "      <th></th>\n",
              "      <th>ativo</th>\n",
              "      <th>retorno</th>\n",
              "    </tr>\n",
              "  </thead>\n",
              "  <tbody>\n",
              "    <tr>\n",
              "      <th>0.25</th>\n",
              "      <td>1695.0</td>\n",
              "      <td>0.190</td>\n",
              "    </tr>\n",
              "    <tr>\n",
              "      <th>0.50</th>\n",
              "      <td>2200.0</td>\n",
              "      <td>0.300</td>\n",
              "    </tr>\n",
              "    <tr>\n",
              "      <th>0.75</th>\n",
              "      <td>3020.0</td>\n",
              "      <td>0.775</td>\n",
              "    </tr>\n",
              "  </tbody>\n",
              "</table>\n",
              "</div>"
            ],
            "text/plain": [
              "       ativo  retorno\n",
              "0.25  1695.0    0.190\n",
              "0.50  2200.0    0.300\n",
              "0.75  3020.0    0.775"
            ]
          },
          "metadata": {},
          "output_type": "display_data"
        }
      ],
      "source": [
        "df.quantile([0.25, 0.5, 0.75])"
      ]
    },
    {
      "cell_type": "code",
      "execution_count": null,
      "metadata": {},
      "outputs": [
        {
          "data": {
            "text/html": [
              "<div>\n",
              "<style scoped>\n",
              "    .dataframe tbody tr th:only-of-type {\n",
              "        vertical-align: middle;\n",
              "    }\n",
              "\n",
              "    .dataframe tbody tr th {\n",
              "        vertical-align: top;\n",
              "    }\n",
              "\n",
              "    .dataframe thead th {\n",
              "        text-align: right;\n",
              "    }\n",
              "</style>\n",
              "<table border=\"1\" class=\"dataframe\">\n",
              "  <thead>\n",
              "    <tr style=\"text-align: right;\">\n",
              "      <th></th>\n",
              "      <th>ativo</th>\n",
              "      <th>retorno</th>\n",
              "    </tr>\n",
              "  </thead>\n",
              "  <tbody>\n",
              "    <tr>\n",
              "      <th>0.01</th>\n",
              "      <td>1030.00</td>\n",
              "      <td>0.0807</td>\n",
              "    </tr>\n",
              "    <tr>\n",
              "      <th>0.99</th>\n",
              "      <td>3391.94</td>\n",
              "      <td>1.2530</td>\n",
              "    </tr>\n",
              "  </tbody>\n",
              "</table>\n",
              "</div>"
            ],
            "text/plain": [
              "        ativo  retorno\n",
              "0.01  1030.00   0.0807\n",
              "0.99  3391.94   1.2530"
            ]
          },
          "metadata": {},
          "output_type": "display_data"
        }
      ],
      "source": [
        "df.quantile([0.01, 0.99])"
      ]
    },
    {
      "cell_type": "code",
      "execution_count": null,
      "metadata": {},
      "outputs": [
        {
          "data": {
            "text/plain": [
              "7"
            ]
          },
          "metadata": {},
          "output_type": "display_data"
        }
      ],
      "source": [
        "df['ativo'].count()"
      ]
    },
    {
      "cell_type": "code",
      "execution_count": null,
      "metadata": {},
      "outputs": [
        {
          "data": {
            "text/plain": [
              "2290.1428571428573"
            ]
          },
          "metadata": {},
          "output_type": "display_data"
        }
      ],
      "source": [
        "df['ativo'].mean()"
      ]
    },
    {
      "cell_type": "code",
      "execution_count": null,
      "metadata": {},
      "outputs": [
        {
          "data": {
            "text/html": [
              "<div>\n",
              "<style scoped>\n",
              "    .dataframe tbody tr th:only-of-type {\n",
              "        vertical-align: middle;\n",
              "    }\n",
              "\n",
              "    .dataframe tbody tr th {\n",
              "        vertical-align: top;\n",
              "    }\n",
              "\n",
              "    .dataframe thead th {\n",
              "        text-align: right;\n",
              "    }\n",
              "</style>\n",
              "<table border=\"1\" class=\"dataframe\">\n",
              "  <thead>\n",
              "    <tr style=\"text-align: right;\">\n",
              "      <th></th>\n",
              "      <th>ativo</th>\n",
              "      <th>retorno</th>\n",
              "    </tr>\n",
              "  </thead>\n",
              "  <tbody>\n",
              "    <tr>\n",
              "      <th>count</th>\n",
              "      <td>7.000000</td>\n",
              "      <td>7.000000</td>\n",
              "    </tr>\n",
              "    <tr>\n",
              "      <th>mean</th>\n",
              "      <td>2290.142857</td>\n",
              "      <td>0.512143</td>\n",
              "    </tr>\n",
              "    <tr>\n",
              "      <th>std</th>\n",
              "      <td>900.205611</td>\n",
              "      <td>0.443150</td>\n",
              "    </tr>\n",
              "    <tr>\n",
              "      <th>min</th>\n",
              "      <td>1000.000000</td>\n",
              "      <td>0.075000</td>\n",
              "    </tr>\n",
              "    <tr>\n",
              "      <th>25%</th>\n",
              "      <td>1695.000000</td>\n",
              "      <td>0.190000</td>\n",
              "    </tr>\n",
              "    <tr>\n",
              "      <th>50%</th>\n",
              "      <td>2200.000000</td>\n",
              "      <td>0.300000</td>\n",
              "    </tr>\n",
              "    <tr>\n",
              "      <th>75%</th>\n",
              "      <td>3020.000000</td>\n",
              "      <td>0.775000</td>\n",
              "    </tr>\n",
              "    <tr>\n",
              "      <th>max</th>\n",
              "      <td>3401.000000</td>\n",
              "      <td>1.280000</td>\n",
              "    </tr>\n",
              "  </tbody>\n",
              "</table>\n",
              "</div>"
            ],
            "text/plain": [
              "             ativo   retorno\n",
              "count     7.000000  7.000000\n",
              "mean   2290.142857  0.512143\n",
              "std     900.205611  0.443150\n",
              "min    1000.000000  0.075000\n",
              "25%    1695.000000  0.190000\n",
              "50%    2200.000000  0.300000\n",
              "75%    3020.000000  0.775000\n",
              "max    3401.000000  1.280000"
            ]
          },
          "metadata": {},
          "output_type": "display_data"
        }
      ],
      "source": [
        "df.describe()"
      ]
    },
    {
      "cell_type": "code",
      "execution_count": null,
      "metadata": {},
      "outputs": [],
      "source": []
    },
    {
      "cell_type": "markdown",
      "metadata": {},
      "source": [
        "## Exercício Estatística\n",
        "\n",
        "\n",
        "Calcule as estatísticas a seguir para o ativo e retorno:\n",
        "* média\n",
        "* desvio padrão\n",
        "* máximo\n",
        "* quantil 95\n"
      ]
    },
    {
      "cell_type": "code",
      "execution_count": null,
      "metadata": {},
      "outputs": [
        {
          "data": {
            "text/plain": [
              "ativo      2290.142857\n",
              "retorno       0.512143\n",
              "dtype: float64"
            ]
          },
          "metadata": {},
          "output_type": "display_data"
        }
      ],
      "source": [
        "df[['ativo', 'retorno']].mean() # Media do ativo e retorno"
      ]
    },
    {
      "cell_type": "code",
      "execution_count": null,
      "metadata": {},
      "outputs": [
        {
          "data": {
            "text/plain": [
              "ativo      900.205611\n",
              "retorno      0.443150\n",
              "dtype: float64"
            ]
          },
          "metadata": {},
          "output_type": "display_data"
        }
      ],
      "source": [
        "df[['ativo', 'retorno']].std() # desvio padrao do ativo e retorno"
      ]
    },
    {
      "cell_type": "code",
      "execution_count": null,
      "metadata": {},
      "outputs": [
        {
          "data": {
            "text/plain": [
              "ativo      3401.00\n",
              "retorno       1.28\n",
              "dtype: float64"
            ]
          },
          "metadata": {},
          "output_type": "display_data"
        }
      ],
      "source": [
        "df[['ativo', 'retorno']].max() # Valor Max da coluna ativo e retorno"
      ]
    },
    {
      "cell_type": "markdown",
      "metadata": {},
      "source": [
        "### O que é percentil?\n",
        "\n",
        "###### Um percentil é uma medida estatística que indica em qual percentual de um conjunto de dados se encontra um determinado valor. Por exemplo, o percentil 50 (ou mediana) indica o valor abaixo do qual metade dos dados estão.\n",
        "\n",
        "### Como calcular percentis com Pandas?\n",
        "###### O pandas possui uma função pd.Series.quantile() que permite calcular percentis em um objeto Series. A sintaxe para calcular o percentil p é series.quantile(p), onde \"series\" é o objeto Series e x é o percentil desejado (em porcentagem). Por exemplo, para calcular a mediana de uma série chamada \"dados\", você usaria dados.quantile(0.5).\n",
        "\n",
        "### Para mais duvidas, acessar o [POSTE SOBRE PERCENTIS](https://medium.com/@CamilaFernandesdev/pandas-para-an%C3%A1lise-de-dados-como-calcular-percentis-com-series-b090a94947db#:~:text=quantile()%20que%20permite%20calcular,percentil%20desejado%20(em%20porcentagem).)"
      ]
    },
    {
      "cell_type": "code",
      "execution_count": 4,
      "metadata": {},
      "outputs": [
        {
          "data": {
            "text/plain": [
              "ativo      3355.700\n",
              "retorno       1.145\n",
              "Name: 0.95, dtype: float64"
            ]
          },
          "execution_count": 4,
          "metadata": {},
          "output_type": "execute_result"
        }
      ],
      "source": [
        "df[['ativo', 'retorno']].quantile(0.95)"
      ]
    },
    {
      "cell_type": "code",
      "execution_count": null,
      "metadata": {},
      "outputs": [],
      "source": []
    },
    {
      "cell_type": "markdown",
      "metadata": {},
      "source": [
        "## Análise Exploratória (Visualizações)\n",
        "\n",
        "* Vamos utilizar a bibliotecas matplotlib"
      ]
    },
    {
      "cell_type": "code",
      "execution_count": null,
      "metadata": {},
      "outputs": [],
      "source": [
        "import matplotlib.pyplot as plt"
      ]
    },
    {
      "cell_type": "code",
      "execution_count": null,
      "metadata": {},
      "outputs": [
        {
          "data": {
            "image/png": "[encoded data removed]",
            "text/plain": [
              "<Figure size 432x288 with 1 Axes>"
            ]
          },
          "metadata": {},
          "output_type": "display_data"
        }
      ],
      "source": [
        "### Gráfico básico\n",
        "\n",
        "plt.plot(df.index, df['retorno']);"
      ]
    },
    {
      "cell_type": "code",
      "execution_count": null,
      "metadata": {},
      "outputs": [
        {
          "data": {
            "image/png": "[encoded data removed]",
            "text/plain": [
              "<Figure size 432x288 with 1 Axes>"
            ]
          },
          "metadata": {},
          "output_type": "display_data"
        }
      ],
      "source": [
        "plt.plot(df['ativo'], df['retorno']);"
      ]
    },
    {
      "cell_type": "code",
      "execution_count": null,
      "metadata": {},
      "outputs": [
        {
          "data": {
            "image/png": "[encoded data removed]",
            "text/plain": [
              "<Figure size 432x288 with 1 Axes>"
            ]
          },
          "metadata": {},
          "output_type": "display_data"
        }
      ],
      "source": [
        "# alterando linha por pontos\n",
        "plt.plot(df.index, df['retorno'], 'o');"
      ]
    },
    {
      "cell_type": "code",
      "execution_count": null,
      "metadata": {},
      "outputs": [
        {
          "data": {
            "image/png": "[encoded data removed]",
            "text/plain": [
              "<Figure size 432x288 with 1 Axes>"
            ]
          },
          "metadata": {},
          "output_type": "display_data"
        }
      ],
      "source": [
        "plt.plot(df['ativo'], df['retorno'], 'o');"
      ]
    },
    {
      "cell_type": "code",
      "execution_count": null,
      "metadata": {},
      "outputs": [
        {
          "data": {
            "image/png": "[encoded data removed]",
            "text/plain": [
              "<Figure size 432x288 with 1 Axes>"
            ]
          },
          "metadata": {},
          "output_type": "display_data"
        }
      ],
      "source": [
        "# Gráfico de barras\n",
        "plt.bar(x = df.index, height = df['ativo']);"
      ]
    },
    {
      "cell_type": "code",
      "execution_count": null,
      "metadata": {},
      "outputs": [
        {
          "data": {
            "image/png": "[encoded data removed]",
            "text/plain": [
              "<Figure size 432x288 with 1 Axes>"
            ]
          },
          "metadata": {},
          "output_type": "display_data"
        }
      ],
      "source": [
        "# adicionando rótulo aos eixos\n",
        "plt.bar(x = df.index, height = df['ativo'])\n",
        "plt.xlabel('empresa');"
      ]
    },
    {
      "cell_type": "code",
      "execution_count": null,
      "metadata": {},
      "outputs": [
        {
          "data": {
            "image/png": "[encoded data removed]",
            "text/plain": [
              "<Figure size 432x288 with 1 Axes>"
            ]
          },
          "metadata": {},
          "output_type": "display_data"
        }
      ],
      "source": [
        "plt.bar(x = df.index, height = df['ativo'])\n",
        "plt.xlabel('empresa')\n",
        "plt.ylabel('ativo');"
      ]
    },
    {
      "cell_type": "code",
      "execution_count": null,
      "metadata": {},
      "outputs": [
        {
          "data": {
            "image/png": "[encoded data removed]",
            "text/plain": [
              "<Figure size 432x288 with 1 Axes>"
            ]
          },
          "metadata": {},
          "output_type": "display_data"
        }
      ],
      "source": [
        "# adicionando título \n",
        "plt.bar(x = df.index, height = df['ativo'])\n",
        "plt.xlabel('empresa')\n",
        "plt.ylabel('ativo')\n",
        "plt.title('Gráfico do Ativo das Empresas');"
      ]
    },
    {
      "cell_type": "markdown",
      "metadata": {},
      "source": [
        "#### Um histograma é um gráfico que representa a distribuição de dados. É usado para mostrar como os dados estão distribuídos ao longo de um intervalo ou de uma variável contínua.\n",
        "\n",
        "#### O eixo horizontal do histograma representa a variável de interesse, dividida em intervalos (ou bins), enquanto o eixo vertical mostra a frequência ou a densidade dos dados em cada intervalo.\n",
        "\n",
        "#### O histograma é também conhecido como Diagrama de Dispersão. É uma ferramenta que fornece um caminho para avaliar a distribuição dos dados.\n",
        "\n",
        "#### O objetivo de um histograma é ilustrar como uma determinada amostra de dados ou população está distribuída. Ao mesmo tempo, ressalta a localização do valor central e da distribuição dos dados em torno deste valor central.\n",
        "\n",
        "#### O histograma pode ser usado para entender a distribuição da frequência em que algo ocorre dentro de um intervalo numérico. Por exemplo, quantos produtos custam entre 0–100 reais, 101–200 reais, 201–300 reais, e assim por diante.\n",
        "\n",
        "#### Os histogramas também podem ajudar a determinar a tendência central dos dados. É possível identificar facilmente estatísticas como média, mediana e moda. \n"
      ]
    },
    {
      "cell_type": "code",
      "execution_count": null,
      "metadata": {},
      "outputs": [
        {
          "data": {
            "image/png": "[encoded data removed]",
            "text/plain": [
              "<Figure size 432x288 with 1 Axes>"
            ]
          },
          "metadata": {},
          "output_type": "display_data"
        }
      ],
      "source": [
        "plt.hist(df['retorno']);"
      ]
    },
    {
      "cell_type": "code",
      "execution_count": null,
      "metadata": {},
      "outputs": [
        {
          "data": {
            "image/png": "[encoded data removed]",
            "text/plain": [
              "<Figure size 432x288 with 1 Axes>"
            ]
          },
          "metadata": {},
          "output_type": "display_data"
        }
      ],
      "source": [
        "#gráfico de dispersão\n",
        "plt.scatter(df['retorno'], df['ativo']);"
      ]
    },
    {
      "cell_type": "code",
      "execution_count": null,
      "metadata": {},
      "outputs": [
        {
          "data": {
            "image/png": "[encoded data removed]",
            "text/plain": [
              "<Figure size 432x288 with 1 Axes>"
            ]
          },
          "metadata": {},
          "output_type": "display_data"
        }
      ],
      "source": [
        "# gráfico de caixa (box-plot)\n",
        "plt.boxplot(df['retorno']);"
      ]
    },
    {
      "cell_type": "markdown",
      "metadata": {},
      "source": [
        "## Exercício gráficos\n",
        "\n",
        "Utilize a serie de ativo e faça os gráficos:\n",
        "\n",
        "* histograma\n",
        "* barras\n",
        "* box-plot (caixa)"
      ]
    },
    {
      "cell_type": "code",
      "execution_count": null,
      "metadata": {},
      "outputs": [
        {
          "data": {
            "image/png": "[encoded data removed]",
            "text/plain": [
              "<Figure size 432x288 with 1 Axes>"
            ]
          },
          "metadata": {},
          "output_type": "display_data"
        }
      ],
      "source": [
        "# 1. \n",
        "plt.hist(df['ativo']);"
      ]
    },
    {
      "cell_type": "code",
      "execution_count": null,
      "metadata": {},
      "outputs": [
        {
          "data": {
            "image/png": "[encoded data removed]",
            "text/plain": [
              "<Figure size 432x288 with 1 Axes>"
            ]
          },
          "metadata": {},
          "output_type": "display_data"
        }
      ],
      "source": [
        "# 2. \n",
        "plt.bar(x = df.index, height = df['ativo']);"
      ]
    },
    {
      "cell_type": "code",
      "execution_count": null,
      "metadata": {},
      "outputs": [
        {
          "data": {
            "image/png": "[encoded data removed]",
            "text/plain": [
              "<Figure size 432x288 with 1 Axes>"
            ]
          },
          "metadata": {},
          "output_type": "display_data"
        }
      ],
      "source": [
        "# 3. \n",
        "plt.boxplot(df['ativo']);"
      ]
    },
    {
      "cell_type": "code",
      "execution_count": null,
      "metadata": {},
      "outputs": [],
      "source": []
    }
  ],
  "metadata": {
    "colab": {
      "collapsed_sections": [
        "u6YYeprOouQG"
      ],
      "name": "Aula_8_Python_Pandas.ipynb",
      "provenance": []
    },
    "kernelspec": {
      "display_name": "Python 3",
      "name": "python3"
    },
    "language_info": {
      "codemirror_mode": {
        "name": "ipython",
        "version": 3
      },
      "file_extension": ".py",
      "mimetype": "text/x-python",
      "name": "python",
      "nbconvert_exporter": "python",
      "pygments_lexer": "ipython3",
      "version": "3.11.4"
    }
  },
  "nbformat": 4,
  "nbformat_minor": 0
}
